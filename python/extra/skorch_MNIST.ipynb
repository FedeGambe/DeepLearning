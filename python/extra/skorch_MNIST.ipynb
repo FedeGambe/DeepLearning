{
  "cells": [
    {
      "cell_type": "markdown",
      "metadata": {
        "id": "DJsUjs19_v63"
      },
      "source": [
        "# MNIST with SciKit-Learn and skorch\n",
        "\n",
        "The goal of skorch is to make it possible to use PyTorch with sklearn. This is achieved by providing a wrapper around PyTorch that has an sklearn interface.\n",
        "Skorch does not re-invent the wheel, instead getting as much out of your way as possible. If you are familiar with sklearn and PyTorch, you don’t have to learn any new concepts, and the syntax should be well known. (If you’re not familiar with those libraries, it is worth getting familiarized.)\n",
        "\n",
        "Additionally, skorch abstracts away the training loop, making a lot of boilerplate code obsolete. A simple net.fit(X, y) is enough. Out of the box, skorch works with many types of data, be it PyTorch Tensors, NumPy arrays, Python dicts, and so on. However, if you have other data, extending skorch is easy to allow for that.\n",
        "\n",
        "<img src=\"https://cpp-learning.com/wp-content/uploads/2020/03/skorch_logo.jpg\" width=\"1600\">\n"
      ]
    },
    {
      "cell_type": "code",
      "source": [
        "!pip install skorch -q"
      ],
      "metadata": {
        "id": "apiiHbvdbg2C",
        "colab": {
          "base_uri": "https://localhost:8080/"
        },
        "outputId": "d7e47442-74b3-4944-a81b-f1958df5e6a1"
      },
      "execution_count": 1,
      "outputs": [
        {
          "output_type": "stream",
          "name": "stdout",
          "text": [
            "\u001b[2K     \u001b[90m━━━━━━━━━━━━━━━━━━━━━━━━━━━━━━━━━━━━━━━━\u001b[0m \u001b[32m239.3/239.3 kB\u001b[0m \u001b[31m2.1 MB/s\u001b[0m eta \u001b[36m0:00:00\u001b[0m\n",
            "\u001b[?25h"
          ]
        }
      ]
    },
    {
      "cell_type": "code",
      "execution_count": 2,
      "metadata": {
        "id": "Gj0pvjxT_v7G"
      },
      "outputs": [],
      "source": [
        "import numpy as np\n",
        "import matplotlib.pyplot as plt\n",
        "from sklearn.datasets import fetch_openml\n",
        "from sklearn.model_selection import train_test_split\n",
        "\n",
        "import warnings\n",
        "warnings.filterwarnings('ignore')"
      ]
    },
    {
      "cell_type": "markdown",
      "metadata": {
        "id": "mPz6Bjqw_v7H"
      },
      "source": [
        "## Loading Data\n",
        "Using SciKit-Learns ```fetch_openml``` to load MNIST data."
      ]
    },
    {
      "cell_type": "code",
      "execution_count": 3,
      "metadata": {
        "id": "mwpfASvc_v7J",
        "colab": {
          "base_uri": "https://localhost:8080/"
        },
        "outputId": "bc2f3cac-b9b4-4928-fa3e-2b962bd0d220"
      },
      "outputs": [
        {
          "output_type": "execute_result",
          "data": {
            "text/plain": [
              "(70000, 784)"
            ]
          },
          "metadata": {},
          "execution_count": 3
        }
      ],
      "source": [
        "mnist = fetch_openml('mnist_784', as_frame=False, cache=False)\n",
        "mnist.data.shape"
      ]
    },
    {
      "cell_type": "markdown",
      "metadata": {
        "id": "sV0ehb52_v7L"
      },
      "source": [
        "## Preprocessing Data\n",
        "\n",
        "Each image of the MNIST dataset is encoded in a 784 dimensional vector, representing a 28 x 28 pixel image. Each pixel has a value between 0 and 255, corresponding to the grey-value of a pixel.<br />\n",
        "The above ```featch_mldata``` method to load MNIST returns ```data``` and ```target``` as ```uint8``` which we convert to ```float32``` and ```int64``` respectively."
      ]
    },
    {
      "cell_type": "code",
      "execution_count": 4,
      "metadata": {
        "id": "F2v_Fwne_v7M"
      },
      "outputs": [],
      "source": [
        "X = mnist.data.astype('float32') # Features\n",
        "y = mnist.target.astype('int64') # Target"
      ]
    },
    {
      "cell_type": "markdown",
      "metadata": {
        "id": "C_yHJarZ_v7N"
      },
      "source": [
        "To avoid big weights that deal with the pixel values from between [0, 255], we scale `X` down. A commonly used range is [0, 1]."
      ]
    },
    {
      "cell_type": "code",
      "execution_count": 5,
      "metadata": {
        "id": "8RirCOTr_v7O"
      },
      "outputs": [],
      "source": [
        "X = X/255.0"
      ]
    },
    {
      "cell_type": "code",
      "execution_count": 6,
      "metadata": {
        "id": "rohyp3d1_v7P",
        "outputId": "4f4b456d-9191-4574-da74-a0c125d0beb7",
        "colab": {
          "base_uri": "https://localhost:8080/"
        }
      },
      "outputs": [
        {
          "output_type": "execute_result",
          "data": {
            "text/plain": [
              "(0.0, 1.0)"
            ]
          },
          "metadata": {},
          "execution_count": 6
        }
      ],
      "source": [
        "X.min(), X.max()"
      ]
    },
    {
      "cell_type": "markdown",
      "metadata": {
        "id": "tyUlsu0V_v7Q"
      },
      "source": [
        "Note: data is not normalized."
      ]
    },
    {
      "cell_type": "code",
      "execution_count": 7,
      "metadata": {
        "id": "gILlsHJS_v7R"
      },
      "outputs": [],
      "source": [
        "X_train, X_test, y_train, y_test = train_test_split(X, y,\n",
        "                                                    test_size=0.25,\n",
        "                                                    random_state=667\n",
        "                                                    )"
      ]
    },
    {
      "cell_type": "code",
      "execution_count": 8,
      "metadata": {
        "id": "jGpA4v4u_v7R"
      },
      "outputs": [],
      "source": [
        "#sum num row == total num row\n",
        "assert(X_train.shape[0] + X_test.shape[0] == mnist.data.shape[0])"
      ]
    },
    {
      "cell_type": "code",
      "execution_count": 9,
      "metadata": {
        "id": "plXmcsp2_v7b",
        "outputId": "492eb4a0-acfd-4ce2-c43f-15a45fd49251",
        "colab": {
          "base_uri": "https://localhost:8080/"
        }
      },
      "outputs": [
        {
          "output_type": "execute_result",
          "data": {
            "text/plain": [
              "((52500, 784), (52500,))"
            ]
          },
          "metadata": {},
          "execution_count": 9
        }
      ],
      "source": [
        "X_train.shape, y_train.shape"
      ]
    },
    {
      "cell_type": "markdown",
      "metadata": {
        "id": "6EKEvbuP_v7c"
      },
      "source": [
        "### Print a selection of training images and their labels"
      ]
    },
    {
      "cell_type": "code",
      "execution_count": 10,
      "metadata": {
        "id": "C9muXJPC_v7d"
      },
      "outputs": [],
      "source": [
        "def plot_example(X, y):\n",
        "    \"\"\"Plot the first 5 images and their labels in a row.\"\"\"\n",
        "    for i, (img, y) in enumerate(zip(X[:5].reshape(5, 28, 28), y[:5])):\n",
        "        plt.subplot(151 + i)\n",
        "        plt.imshow(img)\n",
        "        plt.xticks([])\n",
        "        plt.yticks([])\n",
        "        plt.title(y)"
      ]
    },
    {
      "cell_type": "code",
      "execution_count": 11,
      "metadata": {
        "id": "h2-R1-Df_v7e",
        "outputId": "c7bb6e0c-f0b1-47f4-c21e-8d206804387b",
        "colab": {
          "base_uri": "https://localhost:8080/",
          "height": 144
        }
      },
      "outputs": [
        {
          "output_type": "display_data",
          "data": {
            "text/plain": [
              "<Figure size 640x480 with 5 Axes>"
            ],
            "image/png": "[encoded data removed]"
          },
          "metadata": {}
        }
      ],
      "source": [
        "plot_example(X_train, y_train)"
      ]
    },
    {
      "cell_type": "markdown",
      "metadata": {
        "id": "YQvC-rWf_v7f"
      },
      "source": [
        "## Build Neural Network with PyTorch\n",
        "Simple, fully connected neural network with one hidden layer. Input layer has 784 dimensions (28x28), hidden layer has 98 (= 784 / 8) and output layer 10 neurons, representing digits 0 - 9."
      ]
    },
    {
      "cell_type": "code",
      "execution_count": 12,
      "metadata": {
        "id": "5PG7R0W8_v7f"
      },
      "outputs": [],
      "source": [
        "import torch\n",
        "from torch import nn\n",
        "import torch.nn.functional as F"
      ]
    },
    {
      "cell_type": "code",
      "execution_count": 13,
      "metadata": {
        "id": "NUjWrGBP_v7g"
      },
      "outputs": [],
      "source": [
        "device = 'cuda' if torch.cuda.is_available() else 'cpu'"
      ]
    },
    {
      "cell_type": "code",
      "execution_count": 14,
      "metadata": {
        "id": "gVCW8F3N_v7g"
      },
      "outputs": [],
      "source": [
        "mnist_dim = X.shape[1]\n",
        "hidden_dim = int(mnist_dim/8)\n",
        "output_dim = len(np.unique(mnist.target)) # 10 digits classes"
      ]
    },
    {
      "cell_type": "code",
      "execution_count": 15,
      "metadata": {
        "id": "ShYicHlv_v7h",
        "outputId": "b388ae45-1dd2-47e2-b7c3-97b2ad1fdc84",
        "colab": {
          "base_uri": "https://localhost:8080/"
        }
      },
      "outputs": [
        {
          "output_type": "execute_result",
          "data": {
            "text/plain": [
              "(784, 98, 10)"
            ]
          },
          "metadata": {},
          "execution_count": 15
        }
      ],
      "source": [
        "mnist_dim, hidden_dim, output_dim"
      ]
    },
    {
      "cell_type": "markdown",
      "metadata": {
        "id": "OeVnFhBS_v7i"
      },
      "source": [
        "### A Neural network in PyTorch's (NO CONVOLUTION!!)."
      ]
    },
    {
      "cell_type": "code",
      "execution_count": 16,
      "metadata": {
        "id": "Xxtli0l__v7j"
      },
      "outputs": [],
      "source": [
        "class ClassifierModule(nn.Module):\n",
        "    def __init__(\n",
        "                self,\n",
        "                input_dim=mnist_dim,\n",
        "                hidden_dim=hidden_dim,\n",
        "                output_dim=output_dim,\n",
        "                dropout=0.5,\n",
        "                ):\n",
        "        super(ClassifierModule, self).__init__()\n",
        "        self.dropout = nn.Dropout(dropout)\n",
        "\n",
        "        self.hidden = nn.Linear(input_dim, hidden_dim)\n",
        "        self.output = nn.Linear(hidden_dim, output_dim)\n",
        "\n",
        "    def forward(self, X, **kwargs):\n",
        "        X = F.relu(self.hidden(X))\n",
        "        X = self.dropout(X)\n",
        "        X = F.softmax(self.output(X), dim=-1)\n",
        "        return X"
      ]
    },
    {
      "cell_type": "markdown",
      "source": [
        "### With skorch"
      ],
      "metadata": {
        "id": "4WxZZas8c8Oh"
      }
    },
    {
      "cell_type": "code",
      "execution_count": 17,
      "metadata": {
        "id": "dOrCbBjk_v7m"
      },
      "outputs": [],
      "source": [
        "from skorch import NeuralNetClassifier\n",
        "from skorch.callbacks import EpochScoring\n",
        "\n",
        "torch.manual_seed(667)\n",
        "\n",
        "model = NeuralNetClassifier(\n",
        "                            ClassifierModule,\n",
        "                            max_epochs=20,\n",
        "                            lr=0.1,\n",
        "                            device=device,\n",
        "                            callbacks=[EpochScoring(scoring='accuracy', name='train_acc', on_train=True),], # plot accuracy\n",
        "                            )"
      ]
    },
    {
      "cell_type": "code",
      "execution_count": 18,
      "metadata": {
        "id": "8i_gnvPi_v7m",
        "outputId": "6ea90dbf-87da-429e-fffc-b462dee3ab8b",
        "colab": {
          "base_uri": "https://localhost:8080/"
        }
      },
      "outputs": [
        {
          "output_type": "stream",
          "name": "stdout",
          "text": [
            "  epoch    train_acc    train_loss    valid_acc    valid_loss     dur\n",
            "-------  -----------  ------------  -----------  ------------  ------\n",
            "      1       \u001b[36m0.7630\u001b[0m        \u001b[32m0.8352\u001b[0m       \u001b[35m0.8869\u001b[0m        \u001b[31m0.3993\u001b[0m  1.6615\n",
            "      2       0.8760        \u001b[32m0.4373\u001b[0m       \u001b[35m0.9083\u001b[0m        \u001b[31m0.3224\u001b[0m  1.6381\n",
            "      3       0.8951        \u001b[32m0.3683\u001b[0m       \u001b[35m0.9198\u001b[0m        \u001b[31m0.2765\u001b[0m  0.9069\n",
            "      4       0.9078        \u001b[32m0.3253\u001b[0m       \u001b[35m0.9298\u001b[0m        \u001b[31m0.2510\u001b[0m  0.8922\n",
            "      5       0.9152        \u001b[32m0.2974\u001b[0m       \u001b[35m0.9355\u001b[0m        \u001b[31m0.2279\u001b[0m  0.8891\n",
            "      6       0.9218        \u001b[32m0.2774\u001b[0m       \u001b[35m0.9386\u001b[0m        \u001b[31m0.2108\u001b[0m  0.8942\n",
            "      7       0.9252        \u001b[32m0.2584\u001b[0m       \u001b[35m0.9435\u001b[0m        \u001b[31m0.1941\u001b[0m  0.9221\n",
            "      8       0.9292        \u001b[32m0.2451\u001b[0m       \u001b[35m0.9470\u001b[0m        \u001b[31m0.1846\u001b[0m  0.9031\n",
            "      9       0.9314        \u001b[32m0.2351\u001b[0m       \u001b[35m0.9505\u001b[0m        \u001b[31m0.1738\u001b[0m  0.9099\n",
            "     10       0.9354        \u001b[32m0.2237\u001b[0m       \u001b[35m0.9518\u001b[0m        \u001b[31m0.1674\u001b[0m  0.9097\n",
            "     11       0.9389        \u001b[32m0.2161\u001b[0m       \u001b[35m0.9539\u001b[0m        \u001b[31m0.1616\u001b[0m  0.9103\n",
            "     12       0.9397        \u001b[32m0.2080\u001b[0m       \u001b[35m0.9565\u001b[0m        \u001b[31m0.1586\u001b[0m  0.9139\n",
            "     13       0.9412        \u001b[32m0.2008\u001b[0m       \u001b[35m0.9573\u001b[0m        \u001b[31m0.1511\u001b[0m  1.1240\n",
            "     14       0.9433        \u001b[32m0.1960\u001b[0m       \u001b[35m0.9576\u001b[0m        \u001b[31m0.1484\u001b[0m  1.2236\n",
            "     15       0.9448        \u001b[32m0.1884\u001b[0m       \u001b[35m0.9604\u001b[0m        \u001b[31m0.1447\u001b[0m  0.9175\n",
            "     16       0.9463        \u001b[32m0.1866\u001b[0m       0.9600        \u001b[31m0.1414\u001b[0m  0.9202\n",
            "     17       0.9469        \u001b[32m0.1828\u001b[0m       \u001b[35m0.9609\u001b[0m        0.1414  0.9240\n",
            "     18       0.9474        \u001b[32m0.1778\u001b[0m       \u001b[35m0.9613\u001b[0m        \u001b[31m0.1359\u001b[0m  0.9157\n",
            "     19       0.9482        \u001b[32m0.1752\u001b[0m       \u001b[35m0.9629\u001b[0m        \u001b[31m0.1338\u001b[0m  0.9287\n",
            "     20       0.9493        \u001b[32m0.1721\u001b[0m       0.9623        \u001b[31m0.1324\u001b[0m  0.9190\n"
          ]
        }
      ],
      "source": [
        "model.fit(X_train, y_train);"
      ]
    },
    {
      "cell_type": "code",
      "source": [
        "# Plot the loss and accuracy\n",
        "plt.figure(figsize=(12, 4))\n",
        "\n",
        "plt.subplot(1, 2, 1)\n",
        "plt.plot(model.history[:, 'train_acc'],label='Training Accuracy')\n",
        "plt.plot(model.history[:, 'valid_acc'], label='Validation Accuracy')\n",
        "plt.xlabel('Epoch')\n",
        "plt.ylabel('Accuracy')\n",
        "plt.legend()\n",
        "plt.title('Accuracy Over Time')\n",
        "\n",
        "plt.subplot(1, 2, 2)\n",
        "plt.plot(model.history[:, 'train_loss'],label='Training Loss')\n",
        "plt.plot(model.history[:, 'valid_loss'],label='Validation Loss')\n",
        "plt.xlabel('Epoch')\n",
        "plt.ylabel('Loss')\n",
        "plt.legend()\n",
        "plt.title('Loss Over Time')\n",
        "\n",
        "plt.show()"
      ],
      "metadata": {
        "id": "0WUsn9EBiXpX",
        "outputId": "e7367feb-5577-4892-cdc8-7564d862bf7b",
        "colab": {
          "base_uri": "https://localhost:8080/",
          "height": 410
        }
      },
      "execution_count": 19,
      "outputs": [
        {
          "output_type": "display_data",
          "data": {
            "text/plain": [
              "<Figure size 1200x400 with 2 Axes>"
            ],
            "image/png": "[encoded data removed]"
          },
          "metadata": {}
        }
      ]
    },
    {
      "cell_type": "markdown",
      "metadata": {
        "id": "5c3iyCKu_v7m"
      },
      "source": [
        "## Prediction"
      ]
    },
    {
      "cell_type": "code",
      "execution_count": 20,
      "metadata": {
        "id": "D7rdey0s_v7n",
        "colab": {
          "base_uri": "https://localhost:8080/"
        },
        "outputId": "4e7a0308-43c5-4155-e247-27769767b993"
      },
      "outputs": [
        {
          "output_type": "execute_result",
          "data": {
            "text/plain": [
              "0.966"
            ]
          },
          "metadata": {},
          "execution_count": 20
        }
      ],
      "source": [
        "from sklearn.metrics import accuracy_score\n",
        "\n",
        "y_pred = model.predict(X_test)\n",
        "accuracy_score(y_test, y_pred)"
      ]
    },
    {
      "cell_type": "code",
      "source": [
        "from sklearn.metrics import classification_report\n",
        "\n",
        "print(classification_report(y_test, y_pred))"
      ],
      "metadata": {
        "id": "0q9E3vmaoYMx",
        "outputId": "ca41122d-15e6-4d9c-cf5f-bb768cad8c23",
        "colab": {
          "base_uri": "https://localhost:8080/"
        }
      },
      "execution_count": 21,
      "outputs": [
        {
          "output_type": "stream",
          "name": "stdout",
          "text": [
            "              precision    recall  f1-score   support\n",
            "\n",
            "           0       0.97      0.98      0.98      1714\n",
            "           1       0.97      0.99      0.98      1974\n",
            "           2       0.97      0.96      0.97      1781\n",
            "           3       0.95      0.97      0.96      1811\n",
            "           4       0.96      0.97      0.97      1712\n",
            "           5       0.96      0.95      0.96      1565\n",
            "           6       0.98      0.97      0.98      1734\n",
            "           7       0.97      0.97      0.97      1842\n",
            "           8       0.96      0.94      0.95      1663\n",
            "           9       0.96      0.95      0.95      1704\n",
            "\n",
            "    accuracy                           0.97     17500\n",
            "   macro avg       0.97      0.97      0.97     17500\n",
            "weighted avg       0.97      0.97      0.97     17500\n",
            "\n"
          ]
        }
      ]
    },
    {
      "cell_type": "markdown",
      "metadata": {
        "id": "0eRga6AV_v7o"
      },
      "source": [
        "An accuracy of about 96% for a network with only one hidden layer is not too bad.\n",
        "\n",
        "Let's take a look at some predictions that went wrong:"
      ]
    },
    {
      "cell_type": "code",
      "execution_count": 22,
      "metadata": {
        "id": "XddXR1_a_v7p"
      },
      "outputs": [],
      "source": [
        "error_mask = y_pred != y_test"
      ]
    },
    {
      "cell_type": "code",
      "execution_count": 23,
      "metadata": {
        "id": "hXlNTrlt_v7q",
        "outputId": "fee89739-5ad6-4b4a-d7bb-ea5790caf119",
        "colab": {
          "base_uri": "https://localhost:8080/",
          "height": 144
        }
      },
      "outputs": [
        {
          "output_type": "display_data",
          "data": {
            "text/plain": [
              "<Figure size 640x480 with 5 Axes>"
            ],
            "image/png": "[encoded data removed]"
          },
          "metadata": {}
        }
      ],
      "source": [
        "plot_example(X_test[error_mask], y_pred[error_mask])"
      ]
    },
    {
      "cell_type": "markdown",
      "metadata": {
        "id": "I2GsBaxH_v7r"
      },
      "source": [
        "## Neural network in PyTorch's with CONVOLUTION!!.\n",
        "PyTorch expects a 4 dimensional tensor as input for its 2D convolution layer. The dimensions represent:\n",
        "* Batch size\n",
        "* Number of channel\n",
        "* Height\n",
        "* Width\n",
        "\n",
        "As initial batch size the number of examples needs to be provided. MNIST data has only one channel. As stated above, each MNIST vector represents a 28x28 pixel image. Hence, the resulting shape for PyTorch tensor needs to be (x, 1, 28, 28)."
      ]
    },
    {
      "cell_type": "code",
      "execution_count": 24,
      "metadata": {
        "id": "Bwsaz88X_v7r"
      },
      "outputs": [],
      "source": [
        "XCnn = X.reshape(-1, 1, 28, 28) ## (batch,channel,height, width)"
      ]
    },
    {
      "cell_type": "code",
      "execution_count": 25,
      "metadata": {
        "id": "Go0Yz8xl_v7s",
        "outputId": "e72b4166-d710-4f4d-98f8-358b3d3ede56",
        "colab": {
          "base_uri": "https://localhost:8080/"
        }
      },
      "outputs": [
        {
          "output_type": "execute_result",
          "data": {
            "text/plain": [
              "(70000, 1, 28, 28)"
            ]
          },
          "metadata": {},
          "execution_count": 25
        }
      ],
      "source": [
        "XCnn.shape"
      ]
    },
    {
      "cell_type": "code",
      "execution_count": 26,
      "metadata": {
        "id": "Rt8ETXGa_v7t"
      },
      "outputs": [],
      "source": [
        "XCnn_train, XCnn_test, y_train, y_test = train_test_split(XCnn, y,\n",
        "                                                          test_size=0.25,\n",
        "                                                          random_state=667\n",
        "                                                          )"
      ]
    },
    {
      "cell_type": "code",
      "execution_count": 27,
      "metadata": {
        "id": "-jQm85il_v7t",
        "outputId": "1eb635e1-a0d9-47bf-e3bc-d5047a8a7af6",
        "colab": {
          "base_uri": "https://localhost:8080/"
        }
      },
      "outputs": [
        {
          "output_type": "execute_result",
          "data": {
            "text/plain": [
              "((52500, 1, 28, 28), (52500,))"
            ]
          },
          "metadata": {},
          "execution_count": 27
        }
      ],
      "source": [
        "XCnn_train.shape, y_train.shape"
      ]
    },
    {
      "cell_type": "code",
      "execution_count": 28,
      "metadata": {
        "id": "YdQ-ISvb_v7u"
      },
      "outputs": [],
      "source": [
        "## with convolution\n",
        "\n",
        "class Cnn(nn.Module):\n",
        "    def __init__(self, dropout=0.5):\n",
        "        super(Cnn, self).__init__()\n",
        "        self.conv1 = nn.Conv2d(1, 32, kernel_size=3)\n",
        "        self.conv2 = nn.Conv2d(32, 64, kernel_size=3)\n",
        "        self.conv2_drop = nn.Dropout2d(p=dropout)\n",
        "        self.fc1 = nn.Linear(1600, 100) # 1600 = number channels * width * height\n",
        "        self.fc2 = nn.Linear(100, 10)\n",
        "        self.fc1_drop = nn.Dropout(p=dropout)\n",
        "\n",
        "    def forward(self, x):\n",
        "        x = torch.relu(F.max_pool2d(self.conv1(x), 2))\n",
        "        x = torch.relu(F.max_pool2d(self.conv2_drop(self.conv2(x)), 2))\n",
        "\n",
        "        # flatten over channel, height and width = 1600\n",
        "        x = x.view(-1, x.size(1) * x.size(2) * x.size(3))\n",
        "        x = torch.relu(self.fc1_drop(self.fc1(x)))\n",
        "        x = torch.softmax(self.fc2(x), dim=-1)\n",
        "        return x"
      ]
    },
    {
      "cell_type": "code",
      "execution_count": 29,
      "metadata": {
        "id": "WJrWyFfb_v7u"
      },
      "outputs": [],
      "source": [
        "from skorch import NeuralNetClassifier\n",
        "from skorch.callbacks import EpochScoring\n",
        "\n",
        "torch.manual_seed(667)\n",
        "model_cnn = NeuralNetClassifier(\n",
        "                                Cnn,\n",
        "                                max_epochs=10,\n",
        "                                lr=0.002,\n",
        "                                optimizer=torch.optim.Adam,\n",
        "                                device=device,\n",
        "                                callbacks=[EpochScoring(scoring='accuracy', name='train_acc', on_train=True),], # plor accuracy\n",
        "                                )"
      ]
    },
    {
      "cell_type": "code",
      "execution_count": 30,
      "metadata": {
        "id": "KRtHfgg8_v7u",
        "outputId": "5f1a8f2b-0f1c-4208-87f9-a56a8011c84e",
        "colab": {
          "base_uri": "https://localhost:8080/"
        }
      },
      "outputs": [
        {
          "output_type": "stream",
          "name": "stdout",
          "text": [
            "  epoch    train_acc    train_loss    valid_acc    valid_loss     dur\n",
            "-------  -----------  ------------  -----------  ------------  ------\n",
            "      1       \u001b[36m0.8424\u001b[0m        \u001b[32m0.4907\u001b[0m       \u001b[35m0.9702\u001b[0m        \u001b[31m0.0937\u001b[0m  2.4881\n",
            "      2       0.9445        \u001b[32m0.1881\u001b[0m       \u001b[35m0.9780\u001b[0m        \u001b[31m0.0688\u001b[0m  1.5715\n",
            "      3       0.9551        \u001b[32m0.1513\u001b[0m       \u001b[35m0.9808\u001b[0m        \u001b[31m0.0605\u001b[0m  1.5823\n",
            "      4       0.9609        \u001b[32m0.1279\u001b[0m       \u001b[35m0.9835\u001b[0m        \u001b[31m0.0533\u001b[0m  1.7851\n",
            "      5       0.9647        \u001b[32m0.1202\u001b[0m       \u001b[35m0.9853\u001b[0m        \u001b[31m0.0497\u001b[0m  1.7238\n",
            "      6       0.9670        \u001b[32m0.1099\u001b[0m       \u001b[35m0.9860\u001b[0m        \u001b[31m0.0485\u001b[0m  1.5693\n",
            "      7       0.9686        \u001b[32m0.1045\u001b[0m       \u001b[35m0.9867\u001b[0m        \u001b[31m0.0450\u001b[0m  1.5706\n",
            "      8       0.9701        \u001b[32m0.0985\u001b[0m       0.9867        0.0462  1.5643\n",
            "      9       0.9718        \u001b[32m0.0936\u001b[0m       \u001b[35m0.9869\u001b[0m        \u001b[31m0.0447\u001b[0m  1.5720\n",
            "     10       0.9730        \u001b[32m0.0872\u001b[0m       \u001b[35m0.9870\u001b[0m        \u001b[31m0.0432\u001b[0m  1.5674\n"
          ]
        }
      ],
      "source": [
        "model_cnn.fit(XCnn_train, y_train);"
      ]
    },
    {
      "cell_type": "code",
      "source": [
        "# Plot the loss and accuracy\n",
        "plt.figure(figsize=(12, 4))\n",
        "\n",
        "plt.subplot(1, 2, 1)\n",
        "plt.plot(model_cnn.history[:, 'train_acc'],label='Training Accuracy')\n",
        "plt.plot(model_cnn.history[:, 'valid_acc'], label='Validation Accuracy')\n",
        "plt.xlabel('Epoch')\n",
        "plt.ylabel('Accuracy')\n",
        "plt.legend()\n",
        "plt.title('Accuracy Over Time')\n",
        "\n",
        "plt.subplot(1, 2, 2)\n",
        "plt.plot(model_cnn.history[:, 'train_loss'],label='Training Loss')\n",
        "plt.plot(model_cnn.history[:, 'valid_loss'],label='Validation Loss')\n",
        "plt.xlabel('Epoch')\n",
        "plt.ylabel('Loss')\n",
        "plt.legend()\n",
        "plt.title('Loss Over Time')\n",
        "\n",
        "plt.show()"
      ],
      "metadata": {
        "id": "mKUEJxaZfWCT",
        "outputId": "209eeb7c-17bb-44ee-f892-c278fbe8ee3b",
        "colab": {
          "base_uri": "https://localhost:8080/",
          "height": 410
        }
      },
      "execution_count": 32,
      "outputs": [
        {
          "output_type": "display_data",
          "data": {
            "text/plain": [
              "<Figure size 1200x400 with 2 Axes>"
            ],
            "image/png": "[encoded data removed]"
          },
          "metadata": {}
        }
      ]
    },
    {
      "cell_type": "code",
      "execution_count": 33,
      "metadata": {
        "id": "p6V7wyzb_v7v",
        "colab": {
          "base_uri": "https://localhost:8080/"
        },
        "outputId": "2731c15b-084a-446c-b2b7-5027ed819755"
      },
      "outputs": [
        {
          "output_type": "execute_result",
          "data": {
            "text/plain": [
              "0.9897714285714285"
            ]
          },
          "metadata": {},
          "execution_count": 33
        }
      ],
      "source": [
        "y_pred_cnn = model_cnn.predict(XCnn_test)\n",
        "accuracy_score(y_test, y_pred_cnn)"
      ]
    },
    {
      "cell_type": "code",
      "source": [
        "from sklearn.metrics import classification_report\n",
        "\n",
        "print(classification_report(y_test, y_pred))"
      ],
      "metadata": {
        "id": "M0QFbZNro6BA",
        "outputId": "548c5c63-b5ad-475b-e502-51d001fcc0d6",
        "colab": {
          "base_uri": "https://localhost:8080/"
        }
      },
      "execution_count": 34,
      "outputs": [
        {
          "output_type": "stream",
          "name": "stdout",
          "text": [
            "              precision    recall  f1-score   support\n",
            "\n",
            "           0       0.97      0.98      0.98      1714\n",
            "           1       0.97      0.99      0.98      1974\n",
            "           2       0.97      0.96      0.97      1781\n",
            "           3       0.95      0.97      0.96      1811\n",
            "           4       0.96      0.97      0.97      1712\n",
            "           5       0.96      0.95      0.96      1565\n",
            "           6       0.98      0.97      0.98      1734\n",
            "           7       0.97      0.97      0.97      1842\n",
            "           8       0.96      0.94      0.95      1663\n",
            "           9       0.96      0.95      0.95      1704\n",
            "\n",
            "    accuracy                           0.97     17500\n",
            "   macro avg       0.97      0.97      0.97     17500\n",
            "weighted avg       0.97      0.97      0.97     17500\n",
            "\n"
          ]
        }
      ]
    },
    {
      "cell_type": "markdown",
      "metadata": {
        "id": "npZlem33_v7v"
      },
      "source": [
        "An accuracy of >98% should suffice for this example!\n",
        "\n",
        "Let's see how we fare on the examples that went wrong before:"
      ]
    },
    {
      "cell_type": "code",
      "execution_count": null,
      "metadata": {
        "id": "2oWL0xGC_v7w",
        "outputId": "1d2a0300-2015-4e3f-d6bd-30a8c1e32cbf",
        "colab": {
          "base_uri": "https://localhost:8080/"
        }
      },
      "outputs": [
        {
          "output_type": "execute_result",
          "data": {
            "text/plain": [
              "0.0"
            ]
          },
          "metadata": {},
          "execution_count": 41
        }
      ],
      "source": [
        "error_mask = y_pred_cnn != y_test\n",
        "accuracy_score(y_test[error_mask], y_pred_cnn[error_mask])"
      ]
    },
    {
      "cell_type": "markdown",
      "metadata": {
        "id": "8239U9fF_v7w"
      },
      "source": [
        "Over 70% of the previously misclassified images are now correctly identified."
      ]
    },
    {
      "cell_type": "code",
      "execution_count": null,
      "metadata": {
        "id": "5vU1SXeV_v7x",
        "outputId": "223d8800-6526-40aa-8d2c-a96a7b2f381b",
        "colab": {
          "base_uri": "https://localhost:8080/",
          "height": 144
        }
      },
      "outputs": [
        {
          "output_type": "display_data",
          "data": {
            "text/plain": [
              "<Figure size 640x480 with 5 Axes>"
            ],
            "image/png": "[encoded data removed]"
          },
          "metadata": {}
        }
      ],
      "source": [
        "plot_example(X_test[error_mask], y_pred_cnn[error_mask])"
      ]
    },
    {
      "cell_type": "code",
      "source": [],
      "metadata": {
        "id": "bo1cjCd8epoN"
      },
      "execution_count": null,
      "outputs": []
    }
  ],
  "metadata": {
    "kernelspec": {
      "display_name": "base",
      "language": "python",
      "name": "python3"
    },
    "language_info": {
      "codemirror_mode": {
        "name": "ipython",
        "version": 3
      },
      "file_extension": ".py",
      "mimetype": "text/x-python",
      "name": "python",
      "nbconvert_exporter": "python",
      "pygments_lexer": "ipython3",
      "version": "3.7.13 (default, Mar 28 2022, 08:03:21) [MSC v.1916 64 bit (AMD64)]"
    },
    "vscode": {
      "interpreter": {
        "hash": "bd97b8bffa4d3737e84826bc3d37be3046061822757ce35137ab82ad4c5a2016"
      }
    },
    "colab": {
      "provenance": []
    },
    "accelerator": "GPU",
    "gpuClass": "standard"
  },
  "nbformat": 4,
  "nbformat_minor": 0
}