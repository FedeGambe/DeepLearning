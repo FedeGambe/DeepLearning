{
  "cells": [
    {
      "cell_type": "markdown",
      "source": [
        "## Draw Data"
      ],
      "metadata": {
        "id": "cf7dXFJ2hTeR"
      }
    },
    {
      "cell_type": "code",
      "source": [
        "!pip install drawdata -q"
      ],
      "metadata": {
        "id": "olLt2IF2g9Bz"
      },
      "execution_count": 3,
      "outputs": []
    },
    {
      "cell_type": "code",
      "source": [
        "from drawdata import draw_scatter\n",
        "\n",
        "draw_scatter()"
      ],
      "metadata": {
        "id": "cC9ZzgTag6iw",
        "outputId": "d95d8cbd-e537-426f-d5e5-25adb45b9a0f",
        "colab": {
          "base_uri": "https://localhost:8080/",
          "height": 572
        }
      },
      "execution_count": 4,
      "outputs": [
        {
          "output_type": "execute_result",
          "data": {
            "text/plain": [
              "<IPython.lib.display.IFrame at 0x79a6ada051b0>"
            ],
            "text/html": [
              "\n",
              "        <iframe\n",
              "            width=\"800\"\n",
              "            height=\"550\"\n",
              "            src=\"https://drawdata.xyz/scatter.html\"\n",
              "            frameborder=\"0\"\n",
              "            allowfullscreen\n",
              "            \n",
              "        ></iframe>\n",
              "        "
            ]
          },
          "metadata": {},
          "execution_count": 4
        }
      ]
    }
  ],
  "metadata": {
    "colab": {
      "name": "Welcome to Colaboratory",
      "provenance": []
    },
    "kernelspec": {
      "display_name": "Python 3",
      "name": "python3"
    }
  },
  "nbformat": 4,
  "nbformat_minor": 0
}